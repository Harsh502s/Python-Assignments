{
 "cells": [
  {
   "attachments": {},
   "cell_type": "markdown",
   "metadata": {},
   "source": [
    "<img src=\"https://149695847.v2.pressablecdn.com/wp-content/uploads/2020/08/Visual_pandas.png\" \n",
    "        alt=\"Picture\"  \n",
    "        height=\"500\"\n",
    "        width=\"700\"\n",
    "        style=\"display: block; margin: 0 auto\" />"
   ]
  },
  {
   "attachments": {},
   "cell_type": "markdown",
   "metadata": {},
   "source": [
    "# **Bamboolib — Learn and use Pandas without Coding**\n",
    "\n",
    "## A GUI for Pandas — For Beginners and Experts Alike\n",
    "\n",
    "#### Have you ever been frustrated by doing data exploration and manipulation with Pandas?\n",
    "\n",
    "#### With so many ways to do the same thing, I get spoiled by choice and end up doing absolutely nothing.\n",
    "\n",
    "#### And then for a beginner, the problem is just the opposite as in how to do even a simple thing is not appropriately documented. Understanding Pandas syntax can be a hard thing for the uninitiated.\n",
    "\n",
    "#### So what should one do?\n",
    "\n",
    "#### The creators of Bamboolib had an idea that solved this problem — Why not add a GUI to pandas?\n",
    "\n",
    "#### The idea is to “Learn and use pandas without coding.”"
   ]
  },
  {
   "attachments": {},
   "cell_type": "markdown",
   "metadata": {},
   "source": [
    "## Features\n",
    "\n",
    "- #### Intuitive GUI that exports Python code\n",
    "- #### Supports all common transformations and visualizations\n",
    "- #### Provides best-practice analyses for data exploration\n",
    "- #### Can be arbitrarily customized via simple Python plugins\n",
    "- #### Integrate any internal or external Python library"
   ]
  },
  {
   "attachments": {},
   "cell_type": "markdown",
   "metadata": {},
   "source": [
    "## Main benefits of bamboolib\n",
    "\n",
    "- #### Enables anyone to **analyse data in Python without having to write code**\n",
    "- #### Even people who can code use bamboolib because it is **faster and easier** than writing the code themselves\n",
    "- #### Reduces employee on-boarding time and training costs\n",
    "- #### Enables team members of all skill levels to collaborate within Jupyter and to share the working results as reproducible code\n",
    "- #### No lock-in. You own the code you created with bamboolib\n",
    "- ####  All your data remains private and secure"
   ]
  },
  {
   "attachments": {},
   "cell_type": "markdown",
   "metadata": {},
   "source": [
    "> # Importing Bamboolib and Pandas"
   ]
  },
  {
   "cell_type": "code",
   "execution_count": 1,
   "metadata": {},
   "outputs": [],
   "source": [
    "import bamboolib as bam\n",
    "import pandas as pd"
   ]
  },
  {
   "cell_type": "markdown",
   "metadata": {},
   "source": [
    "> ### Read the data from the csv file"
   ]
  },
  {
   "cell_type": "code",
   "execution_count": 2,
   "metadata": {},
   "outputs": [],
   "source": [
    "df = pd.read_csv('Ad Click Data.csv')"
   ]
  },
  {
   "attachments": {},
   "cell_type": "markdown",
   "metadata": {},
   "source": [
    "> ### BambooLib Tutorial"
   ]
  },
  {
   "cell_type": "markdown",
   "metadata": {},
   "source": [
    "> ### Saving File as Test.csv"
   ]
  },
  {
   "cell_type": "code",
   "execution_count": 6,
   "metadata": {},
   "outputs": [],
   "source": [
    "df.to_csv('test.csv',index=False)"
   ]
  },
  {
   "attachments": {},
   "cell_type": "markdown",
   "metadata": {},
   "source": [
    "## **Conclusion**\n",
    "\n",
    "#### The GUI of Bamboolib is pretty intuitive, and I found it an absolute joy to work with. The project is still in its beginnings, but what a beginning it has been.\n",
    "\n",
    "#### I can surely say that this library is pretty useful for beginners who want to learn to code in Pandas as it provides them access to all the necessary functions without being bothersome.\n",
    "\n",
    "#### While I will still focus on understanding the basics of Pandas and would advise looking at the output of Bamboolib to learn Pandas as well, I would like to see how the adoption of Bamboolib happens in the future."
   ]
  },
  {
   "cell_type": "markdown",
   "metadata": {},
   "source": []
  }
 ],
 "metadata": {
  "kernelspec": {
   "display_name": "Python 3 (ipykernel)",
   "language": "python",
   "name": "python3"
  },
  "language_info": {
   "codemirror_mode": {
    "name": "ipython",
    "version": 3
   },
   "file_extension": ".py",
   "mimetype": "text/x-python",
   "name": "python",
   "nbconvert_exporter": "python",
   "pygments_lexer": "ipython3",
   "version": "3.10.6"
  }
 },
 "nbformat": 4,
 "nbformat_minor": 2
}
