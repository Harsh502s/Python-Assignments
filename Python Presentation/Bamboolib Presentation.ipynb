{
 "cells": [
  {
   "cell_type": "markdown",
   "metadata": {},
   "source": [
    "<img src=\"https://149695847.v2.pressablecdn.com/wp-content/uploads/2020/08/Visual_pandas.png\" \n",
    "        alt=\"Picture\"  \n",
    "        height=\"500\"\n",
    "        width=\"700\"\n",
    "        style=\"display: block; margin: 0 auto\" />"
   ]
  },
  {
   "cell_type": "markdown",
   "metadata": {},
   "source": [
    "# **Bamboolib — Learn and use Pandas without Coding**\n",
    "\n",
    "## A GUI for Pandas — For Beginners and Experts Alike\n",
    "\n",
    "#### Have you ever been frustrated by doing data exploration and manipulation with Pandas?\n",
    "\n",
    "#### With so many ways to do the same thing, I get spoiled by choice and end up doing absolutely nothing.\n",
    "\n",
    "#### And then for a beginner, the problem is just the opposite as in how to do even a simple thing is not appropriately documented. Understanding Pandas syntax can be a hard thing for the uninitiated.\n",
    "\n",
    "#### So what should one do?\n",
    "\n",
    "#### The creators of Bamboolib had an idea that solved this problem — Why not add a GUI to pandas?\n",
    "\n",
    "#### The idea is to “Learn and use pandas without coding.”"
   ]
  },
  {
   "cell_type": "markdown",
   "metadata": {},
   "source": [
    "## Features\n",
    "\n",
    "- #### Intuitive GUI that exports Python code\n",
    "- #### Supports all common transformations and visualizations\n",
    "- #### Provides best-practice analyses for data exploration\n",
    "- #### Can be arbitrarily customized via simple Python plugins\n",
    "- #### Integrate any internal or external Python library"
   ]
  },
  {
   "cell_type": "markdown",
   "metadata": {},
   "source": [
    "## Main benefits of bamboolib\n",
    "\n",
    "- #### Enables anyone to **analyse data in Python without having to write code**\n",
    "- #### Even people who can code use bamboolib because it is **faster and easier** than writing the code themselves\n",
    "- #### Reduces employee on-boarding time and training costs\n",
    "- #### Enables team members of all skill levels to collaborate within Jupyter and to share the working results as reproducible code\n",
    "- #### No lock-in. You own the code you created with bamboolib\n",
    "- ####  All your data remains private and secure"
   ]
  },
  {
   "cell_type": "markdown",
   "metadata": {},
   "source": [
    "> # Importing Bamboolib and Pandas"
   ]
  },
  {
   "cell_type": "code",
   "execution_count": 3,
   "metadata": {},
   "outputs": [],
   "source": [
    "import bamboolib as bam\n",
    "import pandas as pd"
   ]
  },
  {
   "cell_type": "markdown",
   "metadata": {},
   "source": [
    "> ### Read the data from the csv file"
   ]
  },
  {
   "cell_type": "code",
   "execution_count": null,
   "metadata": {},
   "outputs": [],
   "source": [
    "df = pd.read_csv('Ad Click Data.csv')"
   ]
  },
  {
   "cell_type": "markdown",
   "metadata": {},
   "source": [
    "> ### BambooLib Tutorial"
   ]
  },
  {
   "cell_type": "code",
   "execution_count": 3,
   "metadata": {},
   "outputs": [
    {
     "data": {
      "application/vnd.jupyter.widget-view+json": {
       "model_id": "caf69a01e88c47b186c232ebbe109362"
      },
      "text/plain": [
       "     Daily Time Spent on Site  Age  Area Income  Daily Internet Usage  \\\n",
       "0                       68.95   35     61833.90                256.09   \n",
       "1                       80.23   31     68441.85                193.77   \n",
       "2                       69.47   26     59785.94                236.50   \n",
       "3                       74.15   29     54806.18                245.89   \n",
       "4                       68.37   35     73889.99                225.58   \n",
       "..                        ...  ...          ...                   ...   \n",
       "995                     72.97   30     71384.57                208.58   \n",
       "996                     51.30   45     67782.17                134.42   \n",
       "997                       NaN   51     42415.72                120.37   \n",
       "998                     55.55   19     41920.79                187.95   \n",
       "999                     45.01   26     29875.80                178.35   \n",
       "\n",
       "                             Ad Topic Line            City  Male  \\\n",
       "0       Cloned 5thgeneration orchestration     Wrightburgh   0.0   \n",
       "1       Monitored national standardization       West Jodi   1.0   \n",
       "2         Organic bottom-line service-desk        Davidton   0.0   \n",
       "3    Triple-buffered reciprocal time-frame  West Terrifurt   1.0   \n",
       "4            Robust logistical utilization    South Manuel   0.0   \n",
       "..                                     ...             ...   ...   \n",
       "995          Fundamental modular algorithm       Duffystad   1.0   \n",
       "996        Grass-roots cohesive monitoring     New Darlene   1.0   \n",
       "997           Expanded intangible solution   South Jessica   1.0   \n",
       "998   Proactive bandwidth-monitored policy     West Steven   0.0   \n",
       "999        Virtual 5thgeneration emulation     Ronniemouth   0.0   \n",
       "\n",
       "                    Country        Timestamp  Clicked on Ad  \n",
       "0                   Tunisia   3/27/2016 0:53              0  \n",
       "1                     Nauru    4/4/2016 1:39              0  \n",
       "2                San Marino  3/13/2016 20:35              0  \n",
       "3                     Italy   1/10/2016 2:31              0  \n",
       "4                   Iceland    6/3/2016 3:36              0  \n",
       "..                      ...              ...            ...  \n",
       "995                 Lebanon  2/11/2016 21:49              1  \n",
       "996  Bosnia and Herzegovina   4/22/2016 2:07              1  \n",
       "997                Mongolia   2/1/2016 17:24              1  \n",
       "998               Guatemala   3/24/2016 2:35              0  \n",
       "999                  Brazil   6/3/2016 21:43              1  \n",
       "\n",
       "[1000 rows x 10 columns]"
      ]
     },
     "metadata": {},
     "output_type": "display_data"
    }
   ],
   "source": [
    "import pandas as pd; import numpy as np\n",
    "# Step: Drop columns\n",
    "df = df.drop(columns=['Ad Topic Line', 'City', 'Country', 'Timestamp'])\n",
    "\n",
    "# Step: Drop duplicates based on ['Daily Time Spent on Site', 'Age', 'Area Income', 'Daily Internet Usage', 'Male', 'Clicked on Ad']\n",
    "df = df.drop_duplicates(keep='first')\n",
    "\n",
    "# Step: Replace missing values\n",
    "df = df.fillna(df.mean())\n",
    "\n",
    "df"
   ]
  },
  {
   "cell_type": "markdown",
   "metadata": {},
   "source": [
    "> ### Saving File as Test.csv"
   ]
  },
  {
   "cell_type": "code",
   "execution_count": 4,
   "metadata": {},
   "outputs": [],
   "source": [
    "df.to_csv('test.csv',index=False)"
   ]
  },
  {
   "cell_type": "markdown",
   "metadata": {},
   "source": [
    "## **Conclusion**\n",
    "\n",
    "#### The GUI of Bamboolib is pretty intuitive, and I found it an absolute joy to work with. The project is still in its beginnings, but what a beginning it has been.\n",
    "\n",
    "#### I can surely say that this library is pretty useful for beginners who want to learn to code in Pandas as it provides them access to all the necessary functions without being bothersome.\n",
    "\n",
    "#### While I will still focus on understanding the basics of Pandas and would advise looking at the output of Bamboolib to learn Pandas as well, I would like to see how the adoption of Bamboolib happens in the future."
   ]
  },
  {
   "cell_type": "code",
   "execution_count": null,
   "metadata": {},
   "outputs": [],
   "source": []
  }
 ],
 "metadata": {
  "kernelspec": {
   "display_name": "Python 3 (ipykernel)",
   "language": "python",
   "name": "python3"
  },
  "language_info": {
   "codemirror_mode": {
    "name": "ipython",
    "version": 3
   },
   "file_extension": ".py",
   "mimetype": "text/x-python",
   "name": "python",
   "nbconvert_exporter": "python",
   "pygments_lexer": "ipython3",
   "version": "3.10.6"
  }
 },
 "nbformat": 4,
 "nbformat_minor": 2
}
