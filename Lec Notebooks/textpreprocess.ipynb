{
 "cells": [
  {
   "cell_type": "code",
   "execution_count": 2,
   "metadata": {},
   "outputs": [],
   "source": [
    "import re\n",
    "import pandas as pd\n",
    "import numpy as np"
   ]
  },
  {
   "cell_type": "code",
   "execution_count": 3,
   "metadata": {},
   "outputs": [],
   "source": [
    "text = \"\"\"swati satpute, \"Assistnt Professor\", Fergusson College, 91-9822414323\n",
    "Yash mehta, \"Software Engineer\", Ellicuium, 44-827743243\"\"\""
   ]
  },
  {
   "cell_type": "code",
   "execution_count": 9,
   "metadata": {},
   "outputs": [
    {
     "name": "stdout",
     "output_type": "stream",
     "text": [
      "swati satpute, \"Assistnt Professor\", Fergusson College, 91-9822414323\n",
      "Yash mehta, \"Software Engineer\", Ellicuium, 44-827743243\n"
     ]
    },
    {
     "data": {
      "text/html": [
       "<div>\n",
       "<style scoped>\n",
       "    .dataframe tbody tr th:only-of-type {\n",
       "        vertical-align: middle;\n",
       "    }\n",
       "\n",
       "    .dataframe tbody tr th {\n",
       "        vertical-align: top;\n",
       "    }\n",
       "\n",
       "    .dataframe thead th {\n",
       "        text-align: right;\n",
       "    }\n",
       "</style>\n",
       "<table border=\"1\" class=\"dataframe\">\n",
       "  <thead>\n",
       "    <tr style=\"text-align: right;\">\n",
       "      <th></th>\n",
       "      <th>name</th>\n",
       "      <th>designation</th>\n",
       "      <th>organization</th>\n",
       "      <th>countrycode</th>\n",
       "      <th>phone</th>\n",
       "    </tr>\n",
       "  </thead>\n",
       "  <tbody>\n",
       "    <tr>\n",
       "      <th>0</th>\n",
       "      <td>swati satpute</td>\n",
       "      <td>Assistnt Professor</td>\n",
       "      <td>Fergusson College</td>\n",
       "      <td>91</td>\n",
       "      <td>9822414323</td>\n",
       "    </tr>\n",
       "    <tr>\n",
       "      <th>1</th>\n",
       "      <td>Yash mehta</td>\n",
       "      <td>Software Engineer</td>\n",
       "      <td>Ellicuium</td>\n",
       "      <td>44</td>\n",
       "      <td>827743243</td>\n",
       "    </tr>\n",
       "  </tbody>\n",
       "</table>\n",
       "</div>"
      ],
      "text/plain": [
       "            name         designation        organization countrycode  \\\n",
       "0  swati satpute  Assistnt Professor   Fergusson College          91   \n",
       "1     Yash mehta   Software Engineer           Ellicuium          44   \n",
       "\n",
       "        phone  \n",
       "0  9822414323  \n",
       "1   827743243  "
      ]
     },
     "execution_count": 9,
     "metadata": {},
     "output_type": "execute_result"
    }
   ],
   "source": [
    "data = pd.DataFrame(columns=['name', 'designation', 'organization','countrycode', 'phone'])\n",
    "\n",
    "for i, line in enumerate(text.split('\\n')):\n",
    "    print(line)\n",
    "    name, designation, organization, phone = re.split(',', line)\n",
    "    designation = designation.strip().strip('\"')\n",
    "    countrycode, phone = phone.split('-')\n",
    "    data.loc[i] = [name, designation, organization, countrycode, phone]\n",
    "    pass\n",
    "\n",
    "data.head()"
   ]
  },
  {
   "cell_type": "code",
   "execution_count": null,
   "metadata": {},
   "outputs": [],
   "source": []
  }
 ],
 "metadata": {
  "kernelspec": {
   "display_name": "Python 3",
   "language": "python",
   "name": "python3"
  },
  "language_info": {
   "codemirror_mode": {
    "name": "ipython",
    "version": 3
   },
   "file_extension": ".py",
   "mimetype": "text/x-python",
   "name": "python",
   "nbconvert_exporter": "python",
   "pygments_lexer": "ipython3",
   "version": "3.10.4"
  },
  "orig_nbformat": 4
 },
 "nbformat": 4,
 "nbformat_minor": 2
}
