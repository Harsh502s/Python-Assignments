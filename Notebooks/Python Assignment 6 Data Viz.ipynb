{
 "cells": [
  {
   "cell_type": "markdown",
   "metadata": {},
   "source": [
    "# Importing Data Visualization and Manipulation Libraries"
   ]
  },
  {
   "cell_type": "code",
   "execution_count": 75,
   "metadata": {},
   "outputs": [],
   "source": [
    "\n",
    "import pandas as pd\n",
    "import numpy as np\n",
    "import matplotlib.pyplot as plt\n",
    "import seaborn as sns\n",
    "%matplotlib inline\n",
    "\n",
    "import warnings\n",
    "warnings.filterwarnings('ignore')"
   ]
  },
  {
   "cell_type": "markdown",
   "metadata": {},
   "source": [
    "# Reading the data"
   ]
  },
  {
   "cell_type": "code",
   "execution_count": 76,
   "metadata": {},
   "outputs": [
    {
     "data": {
      "text/html": [
       "<div>\n",
       "<style scoped>\n",
       "    .dataframe tbody tr th:only-of-type {\n",
       "        vertical-align: middle;\n",
       "    }\n",
       "\n",
       "    .dataframe tbody tr th {\n",
       "        vertical-align: top;\n",
       "    }\n",
       "\n",
       "    .dataframe thead th {\n",
       "        text-align: right;\n",
       "    }\n",
       "</style>\n",
       "<table border=\"1\" class=\"dataframe\">\n",
       "  <thead>\n",
       "    <tr style=\"text-align: right;\">\n",
       "      <th></th>\n",
       "      <th>name</th>\n",
       "      <th>main_category</th>\n",
       "      <th>sub_category</th>\n",
       "      <th>image</th>\n",
       "      <th>link</th>\n",
       "      <th>ratings</th>\n",
       "      <th>no_of_ratings</th>\n",
       "      <th>discount_price</th>\n",
       "      <th>actual_price</th>\n",
       "    </tr>\n",
       "  </thead>\n",
       "  <tbody>\n",
       "    <tr>\n",
       "      <th>0</th>\n",
       "      <td>Pigeon by Stovekraft Amaze Plus Electric Kettl...</td>\n",
       "      <td>appliances</td>\n",
       "      <td>All Appliances</td>\n",
       "      <td>https://m.media-amazon.com/images/W/IMAGERENDE...</td>\n",
       "      <td>https://www.amazon.in/Pigeon-Amaze-Plus-1-5-Lt...</td>\n",
       "      <td>3.9</td>\n",
       "      <td>128,941</td>\n",
       "      <td>₹599</td>\n",
       "      <td>₹1,245</td>\n",
       "    </tr>\n",
       "    <tr>\n",
       "      <th>1</th>\n",
       "      <td>Pigeon Polypropylene Mini Handy and Compact Ch...</td>\n",
       "      <td>appliances</td>\n",
       "      <td>All Appliances</td>\n",
       "      <td>https://m.media-amazon.com/images/W/IMAGERENDE...</td>\n",
       "      <td>https://www.amazon.in/Pigeon-Stovekraft-Plasti...</td>\n",
       "      <td>4.1</td>\n",
       "      <td>274,505</td>\n",
       "      <td>₹199</td>\n",
       "      <td>₹545</td>\n",
       "    </tr>\n",
       "    <tr>\n",
       "      <th>2</th>\n",
       "      <td>Glun Multipurpose Portable Electronic Digital ...</td>\n",
       "      <td>appliances</td>\n",
       "      <td>All Appliances</td>\n",
       "      <td>https://m.media-amazon.com/images/W/IMAGERENDE...</td>\n",
       "      <td>https://www.amazon.in/Multipurpose-Portable-El...</td>\n",
       "      <td>3.8</td>\n",
       "      <td>365</td>\n",
       "      <td>₹199</td>\n",
       "      <td>₹899</td>\n",
       "    </tr>\n",
       "    <tr>\n",
       "      <th>3</th>\n",
       "      <td>beatXP Kitchen Scale Multipurpose Portable Ele...</td>\n",
       "      <td>appliances</td>\n",
       "      <td>All Appliances</td>\n",
       "      <td>https://m.media-amazon.com/images/W/IMAGERENDE...</td>\n",
       "      <td>https://www.amazon.in/beatXP-Multipurpose-Port...</td>\n",
       "      <td>3.7</td>\n",
       "      <td>3,290</td>\n",
       "      <td>₹299</td>\n",
       "      <td>₹1,999</td>\n",
       "    </tr>\n",
       "    <tr>\n",
       "      <th>4</th>\n",
       "      <td>Bajaj DX-6 1000W Dry Iron with Advance Solepla...</td>\n",
       "      <td>appliances</td>\n",
       "      <td>All Appliances</td>\n",
       "      <td>https://m.media-amazon.com/images/W/IMAGERENDE...</td>\n",
       "      <td>https://www.amazon.in/Bajaj-Majesty-1000-Watt-...</td>\n",
       "      <td>4.2</td>\n",
       "      <td>24,380</td>\n",
       "      <td>₹625</td>\n",
       "      <td>₹1,400</td>\n",
       "    </tr>\n",
       "  </tbody>\n",
       "</table>\n",
       "</div>"
      ],
      "text/plain": [
       "                                                name main_category    sub_category                                              image                                               link ratings no_of_ratings discount_price actual_price\n",
       "0  Pigeon by Stovekraft Amaze Plus Electric Kettl...    appliances  All Appliances  https://m.media-amazon.com/images/W/IMAGERENDE...  https://www.amazon.in/Pigeon-Amaze-Plus-1-5-Lt...     3.9       128,941           ₹599       ₹1,245\n",
       "1  Pigeon Polypropylene Mini Handy and Compact Ch...    appliances  All Appliances  https://m.media-amazon.com/images/W/IMAGERENDE...  https://www.amazon.in/Pigeon-Stovekraft-Plasti...     4.1       274,505           ₹199         ₹545\n",
       "2  Glun Multipurpose Portable Electronic Digital ...    appliances  All Appliances  https://m.media-amazon.com/images/W/IMAGERENDE...  https://www.amazon.in/Multipurpose-Portable-El...     3.8           365           ₹199         ₹899\n",
       "3  beatXP Kitchen Scale Multipurpose Portable Ele...    appliances  All Appliances  https://m.media-amazon.com/images/W/IMAGERENDE...  https://www.amazon.in/beatXP-Multipurpose-Port...     3.7         3,290           ₹299       ₹1,999\n",
       "4  Bajaj DX-6 1000W Dry Iron with Advance Solepla...    appliances  All Appliances  https://m.media-amazon.com/images/W/IMAGERENDE...  https://www.amazon.in/Bajaj-Majesty-1000-Watt-...     4.2        24,380           ₹625       ₹1,400"
      ]
     },
     "execution_count": 76,
     "metadata": {},
     "output_type": "execute_result"
    }
   ],
   "source": [
    "pd.set_option('display.max_columns', None)\n",
    "pd.set_option('display.width', 1000)\n",
    "\n",
    "df = pd.read_csv(r'C:\\Users\\ds12\\College\\Python-Assignments\\Dataset\\AmazonAppliances.csv')\n",
    "\n",
    "df.head()"
   ]
  },
  {
   "cell_type": "markdown",
   "metadata": {},
   "source": [
    "# Describe the dataset"
   ]
  },
  {
   "cell_type": "code",
   "execution_count": 77,
   "metadata": {},
   "outputs": [
    {
     "data": {
      "text/html": [
       "<div>\n",
       "<style scoped>\n",
       "    .dataframe tbody tr th:only-of-type {\n",
       "        vertical-align: middle;\n",
       "    }\n",
       "\n",
       "    .dataframe tbody tr th {\n",
       "        vertical-align: top;\n",
       "    }\n",
       "\n",
       "    .dataframe thead th {\n",
       "        text-align: right;\n",
       "    }\n",
       "</style>\n",
       "<table border=\"1\" class=\"dataframe\">\n",
       "  <thead>\n",
       "    <tr style=\"text-align: right;\">\n",
       "      <th></th>\n",
       "      <th>name</th>\n",
       "      <th>main_category</th>\n",
       "      <th>sub_category</th>\n",
       "      <th>image</th>\n",
       "      <th>link</th>\n",
       "      <th>ratings</th>\n",
       "      <th>no_of_ratings</th>\n",
       "      <th>discount_price</th>\n",
       "      <th>actual_price</th>\n",
       "    </tr>\n",
       "  </thead>\n",
       "  <tbody>\n",
       "    <tr>\n",
       "      <th>count</th>\n",
       "      <td>9576</td>\n",
       "      <td>9576</td>\n",
       "      <td>9576</td>\n",
       "      <td>9576</td>\n",
       "      <td>9576</td>\n",
       "      <td>9098</td>\n",
       "      <td>9098</td>\n",
       "      <td>9214</td>\n",
       "      <td>9485</td>\n",
       "    </tr>\n",
       "    <tr>\n",
       "      <th>unique</th>\n",
       "      <td>8595</td>\n",
       "      <td>1</td>\n",
       "      <td>1</td>\n",
       "      <td>8853</td>\n",
       "      <td>9576</td>\n",
       "      <td>42</td>\n",
       "      <td>2037</td>\n",
       "      <td>2410</td>\n",
       "      <td>1835</td>\n",
       "    </tr>\n",
       "    <tr>\n",
       "      <th>top</th>\n",
       "      <td>Activated Carbon Faucet Water Filters Universa...</td>\n",
       "      <td>appliances</td>\n",
       "      <td>All Appliances</td>\n",
       "      <td>https://m.media-amazon.com/images/I/41w-je6e5b...</td>\n",
       "      <td>https://www.amazon.in/Pigeon-Amaze-Plus-1-5-Lt...</td>\n",
       "      <td>4.1</td>\n",
       "      <td>1</td>\n",
       "      <td>₹499</td>\n",
       "      <td>₹999</td>\n",
       "    </tr>\n",
       "    <tr>\n",
       "      <th>freq</th>\n",
       "      <td>6</td>\n",
       "      <td>9576</td>\n",
       "      <td>9576</td>\n",
       "      <td>7</td>\n",
       "      <td>1</td>\n",
       "      <td>1058</td>\n",
       "      <td>327</td>\n",
       "      <td>352</td>\n",
       "      <td>799</td>\n",
       "    </tr>\n",
       "  </tbody>\n",
       "</table>\n",
       "</div>"
      ],
      "text/plain": [
       "                                                     name main_category    sub_category                                              image                                               link ratings no_of_ratings discount_price actual_price\n",
       "count                                                9576          9576            9576                                               9576                                               9576    9098          9098           9214         9485\n",
       "unique                                               8595             1               1                                               8853                                               9576      42          2037           2410         1835\n",
       "top     Activated Carbon Faucet Water Filters Universa...    appliances  All Appliances  https://m.media-amazon.com/images/I/41w-je6e5b...  https://www.amazon.in/Pigeon-Amaze-Plus-1-5-Lt...     4.1             1           ₹499         ₹999\n",
       "freq                                                    6          9576            9576                                                  7                                                  1    1058           327            352          799"
      ]
     },
     "execution_count": 77,
     "metadata": {},
     "output_type": "execute_result"
    }
   ],
   "source": [
    "df.describe()"
   ]
  },
  {
   "cell_type": "markdown",
   "metadata": {},
   "source": [
    "# Data Information"
   ]
  },
  {
   "cell_type": "code",
   "execution_count": 78,
   "metadata": {},
   "outputs": [
    {
     "name": "stdout",
     "output_type": "stream",
     "text": [
      "<class 'pandas.core.frame.DataFrame'>\n",
      "RangeIndex: 9576 entries, 0 to 9575\n",
      "Data columns (total 9 columns):\n",
      " #   Column          Non-Null Count  Dtype \n",
      "---  ------          --------------  ----- \n",
      " 0   name            9576 non-null   object\n",
      " 1   main_category   9576 non-null   object\n",
      " 2   sub_category    9576 non-null   object\n",
      " 3   image           9576 non-null   object\n",
      " 4   link            9576 non-null   object\n",
      " 5   ratings         9098 non-null   object\n",
      " 6   no_of_ratings   9098 non-null   object\n",
      " 7   discount_price  9214 non-null   object\n",
      " 8   actual_price    9485 non-null   object\n",
      "dtypes: object(9)\n",
      "memory usage: 673.4+ KB\n"
     ]
    }
   ],
   "source": [
    "df.info()"
   ]
  },
  {
   "cell_type": "code",
   "execution_count": 79,
   "metadata": {},
   "outputs": [
    {
     "data": {
      "text/plain": [
       "ratings           478\n",
       "no_of_ratings     478\n",
       "discount_price    362\n",
       "actual_price       91\n",
       "name                0\n",
       "main_category       0\n",
       "sub_category        0\n",
       "image               0\n",
       "link                0\n",
       "dtype: int64"
      ]
     },
     "execution_count": 79,
     "metadata": {},
     "output_type": "execute_result"
    }
   ],
   "source": [
    "# Checking for null values\n",
    "\n",
    "df.isnull().sum().sort_values(ascending=False)"
   ]
  },
  {
   "cell_type": "code",
   "execution_count": 80,
   "metadata": {},
   "outputs": [],
   "source": [
    "df['actual_price']  = df['actual_price'].str.strip('₹')\n",
    "df['discount_price'] = df['discount_price'].str.strip('₹')\n",
    "\n",
    "# Keeping the numeric values in the columns and replacing the rest with NaN\n",
    "\n",
    "df['ratings'] = pd.to_numeric(df['ratings'], errors='coerce')\n",
    "df['no_of_ratings'] = pd.to_numeric(df['no_of_ratings'], errors='coerce')\n",
    "df['actual_price'] = pd.to_numeric(df['actual_price'], errors='coerce')\n",
    "df['discount_price'] = pd.to_numeric(df['discount_price'], errors='coerce')"
   ]
  },
  {
   "cell_type": "code",
   "execution_count": 81,
   "metadata": {},
   "outputs": [],
   "source": [
    "# Replcaing the NaN values with the median of the column\n",
    "\n",
    "df['ratings'].fillna(df['ratings'].median(), inplace=True)\n",
    "df['no_of_ratings'].fillna(df['no_of_ratings'].median(), inplace=True)\n",
    "df['actual_price'].fillna(df['actual_price'].median(), inplace=True)\n",
    "df['discount_price'].fillna(df['discount_price'].median(), inplace=True)\n",
    "df.drop(['image','link','main_category','sub_category'], axis=1, inplace=True)"
   ]
  },
  {
   "cell_type": "code",
   "execution_count": 82,
   "metadata": {},
   "outputs": [
    {
     "data": {
      "text/plain": [
       "name              0\n",
       "ratings           0\n",
       "no_of_ratings     0\n",
       "discount_price    0\n",
       "actual_price      0\n",
       "dtype: int64"
      ]
     },
     "execution_count": 82,
     "metadata": {},
     "output_type": "execute_result"
    }
   ],
   "source": [
    "df.isna().sum().sort_values(ascending=False)"
   ]
  },
  {
   "cell_type": "code",
   "execution_count": 83,
   "metadata": {},
   "outputs": [],
   "source": [
    "# Checking for duplicates and removing them\n",
    "\n",
    "df.duplicated().sum()\n",
    "df.drop_duplicates(inplace=True)"
   ]
  },
  {
   "cell_type": "code",
   "execution_count": 84,
   "metadata": {},
   "outputs": [
    {
     "data": {
      "text/html": [
       "<div>\n",
       "<style scoped>\n",
       "    .dataframe tbody tr th:only-of-type {\n",
       "        vertical-align: middle;\n",
       "    }\n",
       "\n",
       "    .dataframe tbody tr th {\n",
       "        vertical-align: top;\n",
       "    }\n",
       "\n",
       "    .dataframe thead th {\n",
       "        text-align: right;\n",
       "    }\n",
       "</style>\n",
       "<table border=\"1\" class=\"dataframe\">\n",
       "  <thead>\n",
       "    <tr style=\"text-align: right;\">\n",
       "      <th></th>\n",
       "      <th>name</th>\n",
       "      <th>ratings</th>\n",
       "      <th>no_of_ratings</th>\n",
       "      <th>discount_price</th>\n",
       "      <th>actual_price</th>\n",
       "    </tr>\n",
       "  </thead>\n",
       "  <tbody>\n",
       "    <tr>\n",
       "      <th>0</th>\n",
       "      <td>Pigeon by Stovekraft Amaze Plus Electric Kettl...</td>\n",
       "      <td>3.9</td>\n",
       "      <td>66.0</td>\n",
       "      <td>599.0</td>\n",
       "      <td>650.0</td>\n",
       "    </tr>\n",
       "    <tr>\n",
       "      <th>1</th>\n",
       "      <td>Pigeon Polypropylene Mini Handy and Compact Ch...</td>\n",
       "      <td>4.1</td>\n",
       "      <td>66.0</td>\n",
       "      <td>199.0</td>\n",
       "      <td>545.0</td>\n",
       "    </tr>\n",
       "    <tr>\n",
       "      <th>2</th>\n",
       "      <td>Glun Multipurpose Portable Electronic Digital ...</td>\n",
       "      <td>3.8</td>\n",
       "      <td>365.0</td>\n",
       "      <td>199.0</td>\n",
       "      <td>899.0</td>\n",
       "    </tr>\n",
       "    <tr>\n",
       "      <th>3</th>\n",
       "      <td>beatXP Kitchen Scale Multipurpose Portable Ele...</td>\n",
       "      <td>3.7</td>\n",
       "      <td>66.0</td>\n",
       "      <td>299.0</td>\n",
       "      <td>650.0</td>\n",
       "    </tr>\n",
       "    <tr>\n",
       "      <th>4</th>\n",
       "      <td>Bajaj DX-6 1000W Dry Iron with Advance Solepla...</td>\n",
       "      <td>4.2</td>\n",
       "      <td>66.0</td>\n",
       "      <td>625.0</td>\n",
       "      <td>650.0</td>\n",
       "    </tr>\n",
       "    <tr>\n",
       "      <th>...</th>\n",
       "      <td>...</td>\n",
       "      <td>...</td>\n",
       "      <td>...</td>\n",
       "      <td>...</td>\n",
       "      <td>...</td>\n",
       "    </tr>\n",
       "    <tr>\n",
       "      <th>9571</th>\n",
       "      <td>Kaizen Swimming Pool Heavy Duty In-Ground Pool...</td>\n",
       "      <td>2.9</td>\n",
       "      <td>5.0</td>\n",
       "      <td>399.0</td>\n",
       "      <td>650.0</td>\n",
       "    </tr>\n",
       "    <tr>\n",
       "      <th>9572</th>\n",
       "      <td>Butterfly 750 Watts 4 Jar Mixer Grinder and 90...</td>\n",
       "      <td>4.1</td>\n",
       "      <td>33.0</td>\n",
       "      <td>399.0</td>\n",
       "      <td>650.0</td>\n",
       "    </tr>\n",
       "    <tr>\n",
       "      <th>9573</th>\n",
       "      <td>Bajaj Bahar 150 mm Exhaust Fan (Metallic Grey)</td>\n",
       "      <td>3.9</td>\n",
       "      <td>337.0</td>\n",
       "      <td>399.0</td>\n",
       "      <td>650.0</td>\n",
       "    </tr>\n",
       "    <tr>\n",
       "      <th>9574</th>\n",
       "      <td>Drumstone Barbeque Grill Grilling Set Machine ...</td>\n",
       "      <td>4.0</td>\n",
       "      <td>66.0</td>\n",
       "      <td>399.0</td>\n",
       "      <td>650.0</td>\n",
       "    </tr>\n",
       "    <tr>\n",
       "      <th>9575</th>\n",
       "      <td>Haier 8.5 Kg Semi-Automatic Top Loading Washin...</td>\n",
       "      <td>4.1</td>\n",
       "      <td>41.0</td>\n",
       "      <td>399.0</td>\n",
       "      <td>650.0</td>\n",
       "    </tr>\n",
       "  </tbody>\n",
       "</table>\n",
       "<p>8713 rows × 5 columns</p>\n",
       "</div>"
      ],
      "text/plain": [
       "                                                   name  ratings  no_of_ratings  discount_price  actual_price\n",
       "0     Pigeon by Stovekraft Amaze Plus Electric Kettl...      3.9           66.0           599.0         650.0\n",
       "1     Pigeon Polypropylene Mini Handy and Compact Ch...      4.1           66.0           199.0         545.0\n",
       "2     Glun Multipurpose Portable Electronic Digital ...      3.8          365.0           199.0         899.0\n",
       "3     beatXP Kitchen Scale Multipurpose Portable Ele...      3.7           66.0           299.0         650.0\n",
       "4     Bajaj DX-6 1000W Dry Iron with Advance Solepla...      4.2           66.0           625.0         650.0\n",
       "...                                                 ...      ...            ...             ...           ...\n",
       "9571  Kaizen Swimming Pool Heavy Duty In-Ground Pool...      2.9            5.0           399.0         650.0\n",
       "9572  Butterfly 750 Watts 4 Jar Mixer Grinder and 90...      4.1           33.0           399.0         650.0\n",
       "9573     Bajaj Bahar 150 mm Exhaust Fan (Metallic Grey)      3.9          337.0           399.0         650.0\n",
       "9574  Drumstone Barbeque Grill Grilling Set Machine ...      4.0           66.0           399.0         650.0\n",
       "9575  Haier 8.5 Kg Semi-Automatic Top Loading Washin...      4.1           41.0           399.0         650.0\n",
       "\n",
       "[8713 rows x 5 columns]"
      ]
     },
     "execution_count": 84,
     "metadata": {},
     "output_type": "execute_result"
    }
   ],
   "source": [
    "df"
   ]
  },
  {
   "cell_type": "code",
   "execution_count": null,
   "metadata": {},
   "outputs": [],
   "source": []
  }
 ],
 "metadata": {
  "kernelspec": {
   "display_name": "Python 3",
   "language": "python",
   "name": "python3"
  },
  "language_info": {
   "codemirror_mode": {
    "name": "ipython",
    "version": 3
   },
   "file_extension": ".py",
   "mimetype": "text/x-python",
   "name": "python",
   "nbconvert_exporter": "python",
   "pygments_lexer": "ipython3",
   "version": "3.10.6"
  },
  "orig_nbformat": 4
 },
 "nbformat": 4,
 "nbformat_minor": 2
}
