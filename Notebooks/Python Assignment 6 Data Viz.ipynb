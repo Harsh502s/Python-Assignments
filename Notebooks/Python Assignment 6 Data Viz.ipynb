{
 "cells": [
  {
   "cell_type": "markdown",
   "metadata": {},
   "source": [
    "# Importing Data Visualization and Manipulation Libraries"
   ]
  },
  {
   "cell_type": "code",
   "execution_count": null,
   "metadata": {},
   "outputs": [],
   "source": [
    "\n",
    "import pandas as pd\n",
    "import numpy as np\n",
    "import matplotlib.pyplot as plt\n",
    "import seaborn as sns\n",
    "%matplotlib inline\n",
    "\n",
    "import warnings\n",
    "warnings.filterwarnings('ignore')"
   ]
  },
  {
   "cell_type": "markdown",
   "metadata": {},
   "source": [
    "# Reading the data"
   ]
  },
  {
   "cell_type": "code",
   "execution_count": 12,
   "metadata": {},
   "outputs": [
    {
     "data": {
      "text/html": [
       "<div>\n",
       "<style scoped>\n",
       "    .dataframe tbody tr th:only-of-type {\n",
       "        vertical-align: middle;\n",
       "    }\n",
       "\n",
       "    .dataframe tbody tr th {\n",
       "        vertical-align: top;\n",
       "    }\n",
       "\n",
       "    .dataframe thead th {\n",
       "        text-align: right;\n",
       "    }\n",
       "</style>\n",
       "<table border=\"1\" class=\"dataframe\">\n",
       "  <thead>\n",
       "    <tr style=\"text-align: right;\">\n",
       "      <th></th>\n",
       "      <th>name</th>\n",
       "      <th>main_category</th>\n",
       "      <th>sub_category</th>\n",
       "      <th>image</th>\n",
       "      <th>link</th>\n",
       "      <th>ratings</th>\n",
       "      <th>no_of_ratings</th>\n",
       "      <th>discount_price</th>\n",
       "      <th>actual_price</th>\n",
       "    </tr>\n",
       "  </thead>\n",
       "  <tbody>\n",
       "    <tr>\n",
       "      <th>0</th>\n",
       "      <td>Lloyd 1.5 Ton 3 Star Inverter Split Ac (5 In 1...</td>\n",
       "      <td>appliances</td>\n",
       "      <td>Air Conditioners</td>\n",
       "      <td>https://m.media-amazon.com/images/I/31UISB90sY...</td>\n",
       "      <td>https://www.amazon.in/Lloyd-Inverter-Convertib...</td>\n",
       "      <td>4.2</td>\n",
       "      <td>2,255</td>\n",
       "      <td>₹32,999</td>\n",
       "      <td>₹58,990</td>\n",
       "    </tr>\n",
       "    <tr>\n",
       "      <th>1</th>\n",
       "      <td>LG 1.5 Ton 5 Star AI DUAL Inverter Split AC (C...</td>\n",
       "      <td>appliances</td>\n",
       "      <td>Air Conditioners</td>\n",
       "      <td>https://m.media-amazon.com/images/I/51JFb7FctD...</td>\n",
       "      <td>https://www.amazon.in/LG-Convertible-Anti-Viru...</td>\n",
       "      <td>4.2</td>\n",
       "      <td>2,948</td>\n",
       "      <td>₹46,490</td>\n",
       "      <td>₹75,990</td>\n",
       "    </tr>\n",
       "    <tr>\n",
       "      <th>2</th>\n",
       "      <td>LG 1 Ton 4 Star Ai Dual Inverter Split Ac (Cop...</td>\n",
       "      <td>appliances</td>\n",
       "      <td>Air Conditioners</td>\n",
       "      <td>https://m.media-amazon.com/images/I/51JFb7FctD...</td>\n",
       "      <td>https://www.amazon.in/LG-Inverter-Convertible-...</td>\n",
       "      <td>4.2</td>\n",
       "      <td>1,206</td>\n",
       "      <td>₹34,490</td>\n",
       "      <td>₹61,990</td>\n",
       "    </tr>\n",
       "    <tr>\n",
       "      <th>3</th>\n",
       "      <td>LG 1.5 Ton 3 Star AI DUAL Inverter Split AC (C...</td>\n",
       "      <td>appliances</td>\n",
       "      <td>Air Conditioners</td>\n",
       "      <td>https://m.media-amazon.com/images/I/51JFb7FctD...</td>\n",
       "      <td>https://www.amazon.in/LG-Convertible-Anti-Viru...</td>\n",
       "      <td>4.0</td>\n",
       "      <td>69</td>\n",
       "      <td>₹37,990</td>\n",
       "      <td>₹68,990</td>\n",
       "    </tr>\n",
       "    <tr>\n",
       "      <th>4</th>\n",
       "      <td>Carrier 1.5 Ton 3 Star Inverter Split AC (Copp...</td>\n",
       "      <td>appliances</td>\n",
       "      <td>Air Conditioners</td>\n",
       "      <td>https://m.media-amazon.com/images/I/41lrtqXPiW...</td>\n",
       "      <td>https://www.amazon.in/Carrier-Inverter-Split-C...</td>\n",
       "      <td>4.1</td>\n",
       "      <td>630</td>\n",
       "      <td>₹34,490</td>\n",
       "      <td>₹67,790</td>\n",
       "    </tr>\n",
       "  </tbody>\n",
       "</table>\n",
       "</div>"
      ],
      "text/plain": [
       "                                                name main_category      sub_category                                              image                                               link ratings no_of_ratings discount_price actual_price\n",
       "0  Lloyd 1.5 Ton 3 Star Inverter Split Ac (5 In 1...    appliances  Air Conditioners  https://m.media-amazon.com/images/I/31UISB90sY...  https://www.amazon.in/Lloyd-Inverter-Convertib...     4.2         2,255        ₹32,999      ₹58,990\n",
       "1  LG 1.5 Ton 5 Star AI DUAL Inverter Split AC (C...    appliances  Air Conditioners  https://m.media-amazon.com/images/I/51JFb7FctD...  https://www.amazon.in/LG-Convertible-Anti-Viru...     4.2         2,948        ₹46,490      ₹75,990\n",
       "2  LG 1 Ton 4 Star Ai Dual Inverter Split Ac (Cop...    appliances  Air Conditioners  https://m.media-amazon.com/images/I/51JFb7FctD...  https://www.amazon.in/LG-Inverter-Convertible-...     4.2         1,206        ₹34,490      ₹61,990\n",
       "3  LG 1.5 Ton 3 Star AI DUAL Inverter Split AC (C...    appliances  Air Conditioners  https://m.media-amazon.com/images/I/51JFb7FctD...  https://www.amazon.in/LG-Convertible-Anti-Viru...     4.0            69        ₹37,990      ₹68,990\n",
       "4  Carrier 1.5 Ton 3 Star Inverter Split AC (Copp...    appliances  Air Conditioners  https://m.media-amazon.com/images/I/41lrtqXPiW...  https://www.amazon.in/Carrier-Inverter-Split-C...     4.1           630        ₹34,490      ₹67,790"
      ]
     },
     "execution_count": 12,
     "metadata": {},
     "output_type": "execute_result"
    }
   ],
   "source": [
    "pd.set_option('display.max_columns', None)\n",
    "pd.set_option('display.width', 1000)\n",
    "\n",
    "df = pd.read_csv(r'C:\\Users\\ds12\\College\\Python-Assignments\\Dataset\\Amazon-Products.csv',index_col=0)\n",
    "\n",
    "df.head()"
   ]
  },
  {
   "cell_type": "markdown",
   "metadata": {},
   "source": [
    "# Describe the dataset"
   ]
  },
  {
   "cell_type": "code",
   "execution_count": 13,
   "metadata": {},
   "outputs": [
    {
     "data": {
      "text/html": [
       "<div>\n",
       "<style scoped>\n",
       "    .dataframe tbody tr th:only-of-type {\n",
       "        vertical-align: middle;\n",
       "    }\n",
       "\n",
       "    .dataframe tbody tr th {\n",
       "        vertical-align: top;\n",
       "    }\n",
       "\n",
       "    .dataframe thead th {\n",
       "        text-align: right;\n",
       "    }\n",
       "</style>\n",
       "<table border=\"1\" class=\"dataframe\">\n",
       "  <thead>\n",
       "    <tr style=\"text-align: right;\">\n",
       "      <th></th>\n",
       "      <th>name</th>\n",
       "      <th>main_category</th>\n",
       "      <th>sub_category</th>\n",
       "      <th>image</th>\n",
       "      <th>link</th>\n",
       "      <th>ratings</th>\n",
       "      <th>no_of_ratings</th>\n",
       "      <th>discount_price</th>\n",
       "      <th>actual_price</th>\n",
       "    </tr>\n",
       "  </thead>\n",
       "  <tbody>\n",
       "    <tr>\n",
       "      <th>count</th>\n",
       "      <td>551585</td>\n",
       "      <td>551585</td>\n",
       "      <td>551585</td>\n",
       "      <td>551585</td>\n",
       "      <td>551585</td>\n",
       "      <td>375791</td>\n",
       "      <td>375791</td>\n",
       "      <td>490422</td>\n",
       "      <td>533772</td>\n",
       "    </tr>\n",
       "    <tr>\n",
       "      <th>unique</th>\n",
       "      <td>396210</td>\n",
       "      <td>20</td>\n",
       "      <td>112</td>\n",
       "      <td>462414</td>\n",
       "      <td>551585</td>\n",
       "      <td>49</td>\n",
       "      <td>8342</td>\n",
       "      <td>27511</td>\n",
       "      <td>23170</td>\n",
       "    </tr>\n",
       "    <tr>\n",
       "      <th>top</th>\n",
       "      <td>Zeya Yellow Gold Ring</td>\n",
       "      <td>accessories</td>\n",
       "      <td>Shirts</td>\n",
       "      <td>https://m.media-amazon.com/images/I/51uEPldT42...</td>\n",
       "      <td>https://www.amazon.in/Lloyd-Inverter-Convertib...</td>\n",
       "      <td>4.0</td>\n",
       "      <td>1</td>\n",
       "      <td>₹499</td>\n",
       "      <td>₹999</td>\n",
       "    </tr>\n",
       "    <tr>\n",
       "      <th>freq</th>\n",
       "      <td>718</td>\n",
       "      <td>116141</td>\n",
       "      <td>19200</td>\n",
       "      <td>3044</td>\n",
       "      <td>1</td>\n",
       "      <td>36609</td>\n",
       "      <td>39816</td>\n",
       "      <td>18248</td>\n",
       "      <td>48774</td>\n",
       "    </tr>\n",
       "  </tbody>\n",
       "</table>\n",
       "</div>"
      ],
      "text/plain": [
       "                         name main_category sub_category                                              image                                               link ratings no_of_ratings discount_price actual_price\n",
       "count                  551585        551585       551585                                             551585                                             551585  375791        375791         490422       533772\n",
       "unique                 396210            20          112                                             462414                                             551585      49          8342          27511        23170\n",
       "top     Zeya Yellow Gold Ring   accessories       Shirts  https://m.media-amazon.com/images/I/51uEPldT42...  https://www.amazon.in/Lloyd-Inverter-Convertib...     4.0             1           ₹499         ₹999\n",
       "freq                      718        116141        19200                                               3044                                                  1   36609         39816          18248        48774"
      ]
     },
     "execution_count": 13,
     "metadata": {},
     "output_type": "execute_result"
    }
   ],
   "source": [
    "df.describe()"
   ]
  },
  {
   "cell_type": "markdown",
   "metadata": {},
   "source": [
    "# Data Information"
   ]
  },
  {
   "cell_type": "code",
   "execution_count": 14,
   "metadata": {},
   "outputs": [
    {
     "name": "stdout",
     "output_type": "stream",
     "text": [
      "<class 'pandas.core.frame.DataFrame'>\n",
      "Int64Index: 551585 entries, 0 to 1103\n",
      "Data columns (total 9 columns):\n",
      " #   Column          Non-Null Count   Dtype \n",
      "---  ------          --------------   ----- \n",
      " 0   name            551585 non-null  object\n",
      " 1   main_category   551585 non-null  object\n",
      " 2   sub_category    551585 non-null  object\n",
      " 3   image           551585 non-null  object\n",
      " 4   link            551585 non-null  object\n",
      " 5   ratings         375791 non-null  object\n",
      " 6   no_of_ratings   375791 non-null  object\n",
      " 7   discount_price  490422 non-null  object\n",
      " 8   actual_price    533772 non-null  object\n",
      "dtypes: object(9)\n",
      "memory usage: 42.1+ MB\n"
     ]
    }
   ],
   "source": [
    "df.info()"
   ]
  },
  {
   "cell_type": "code",
   "execution_count": 10,
   "metadata": {},
   "outputs": [
    {
     "data": {
      "text/plain": [
       "dish_liked                     28078\n",
       "rate                            7775\n",
       "phone                           1208\n",
       "approx_cost(for two people)      346\n",
       "rest_type                        227\n",
       "cuisines                          45\n",
       "location                          21\n",
       "listed_in(type)                    0\n",
       "menu_item                          0\n",
       "reviews_list                       0\n",
       "url                                0\n",
       "address                            0\n",
       "votes                              0\n",
       "book_table                         0\n",
       "online_order                       0\n",
       "name                               0\n",
       "listed_in(city)                    0\n",
       "dtype: int64"
      ]
     },
     "execution_count": 10,
     "metadata": {},
     "output_type": "execute_result"
    }
   ],
   "source": [
    "# Checking for null values\n",
    "\n",
    "df.isnull().sum().sort_values(ascending=False)"
   ]
  },
  {
   "cell_type": "code",
   "execution_count": null,
   "metadata": {},
   "outputs": [],
   "source": []
  }
 ],
 "metadata": {
  "kernelspec": {
   "display_name": "Python 3",
   "language": "python",
   "name": "python3"
  },
  "language_info": {
   "codemirror_mode": {
    "name": "ipython",
    "version": 3
   },
   "file_extension": ".py",
   "mimetype": "text/x-python",
   "name": "python",
   "nbconvert_exporter": "python",
   "pygments_lexer": "ipython3",
   "version": "3.10.6"
  },
  "orig_nbformat": 4
 },
 "nbformat": 4,
 "nbformat_minor": 2
}
